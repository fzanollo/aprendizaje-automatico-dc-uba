{
 "cells": [
  {
   "cell_type": "markdown",
   "metadata": {},
   "source": [
    "[![Open In Colab](https://colab.research.google.com/assets/colab-badge.svg)](https://colab.research.google.com/github/aprendizaje-automatico-dc-uba-ar/material/blob/main/notebooks/notebook_04_implementacion_arboles-published.ipynb)\n",
    "\n",
    "## Árboles de decisión\n",
    "\n",
    "### Metiendonos debajo del capot\n",
    "\n",
    "En esta notebook exploraremos el funcionamiento de un árbol de decisión construido aquí mismo.\n",
    "\n",
    "Para eso contaremos con algunas partes de código resueltas y otras que se deberán completar.\n",
    "\n",
    "El objetivo será comprender la esencia de cómo se comportan los árboles a medida que le vamos agregando funcionalidad (o introduciendo _bugs_) para entender mejor su funcionamiento."
   ]
  },
  {
   "cell_type": "code",
   "metadata": {
    "ExecuteTime": {
     "end_time": "2024-08-28T18:49:36.905343Z",
     "start_time": "2024-08-28T18:49:36.901001Z"
    }
   },
   "source": [
    "# Puede ser necesario instalar graphviz\n",
    "#!pip install graphviz"
   ],
   "outputs": [],
   "execution_count": 2
  },
  {
   "cell_type": "code",
   "metadata": {
    "ExecuteTime": {
     "end_time": "2024-08-28T18:49:44.792008Z",
     "start_time": "2024-08-28T18:49:44.222450Z"
    }
   },
   "source": [
    "# Cargamos bibliotecas necesarias\n",
    "import numpy as np\n",
    "import pandas as pd\n",
    "\n",
    "from collections import Counter\n",
    "import operator # Trae los operadores de Python como funciones y no infix\n",
    "from IPython.display import Image, display\n",
    "\n",
    "from graphviz import Digraph\n",
    "import pydotplus"
   ],
   "outputs": [],
   "execution_count": 3
  },
  {
   "cell_type": "markdown",
   "metadata": {},
   "source": [
    "A lo largo de este NoteBook usaremos objetos de distintos tipos de datos. Por simplicidad diremos que en todos los casos usaremos asumiremos que los parámetros pasados para cada función serán de los siguientes tipos:\n",
    "\n",
    "   - el parámetro `instancias` será un `DataFrame` de `pandas`\n",
    "   - el parámetro `etiquetas` será un `array` de `numpy` con valores `'Si'`, `'No'` (mismo para `etiquetas_rama_izquierda` y `etiquetas_rama_derecha`)\n",
    "   - el parámetro `pregunta` será un objeto de la clase `Decision` que es definida en este mismo archivo\n",
    "\n",
    "\n",
    "La clase Árbol la definiremos a continuación. Consta de:\n",
    "\n",
    "   - un constructor\n",
    "   - el método `fit` para entrenarlo (a modo de sklearn)\n",
    "   - el método `predict` para dada una instancia predecir su etiqueta\n",
    "   - el método `score` no se encuentra implementar aún\n",
    "   - métodos para visualizar y explorar el árbol\n",
    "\n"
   ]
  },
  {
   "cell_type": "code",
   "metadata": {
    "ExecuteTime": {
     "end_time": "2024-08-28T22:16:23.425590Z",
     "start_time": "2024-08-28T22:16:23.402237Z"
    }
   },
   "source": [
    "# Definición de la clase árbol\n",
    "from typing import Optional, Tuple\n",
    "\n",
    "\n",
    "class Tree:\n",
    "    def __init__(\n",
    "        self,\n",
    "        decision=None,  # Esto va a tener tipo Decision, una clase que vamos a definir más adelante\n",
    "        left: Optional[\"Tree\"] = None,\n",
    "        right: Optional[\"Tree\"] = None,\n",
    "        labels: Optional[np.ndarray] = None,\n",
    "    ):\n",
    "        self.decision = decision\n",
    "        self.left = left\n",
    "        self.right = right\n",
    "\n",
    "        self.data = Counter(labels) if labels is not None else None\n",
    "\n",
    "    def fit(self, instancias: pd.DataFrame, etiquetas: np.ndarray):\n",
    "        # ALGORITMO RECURSIVO para construcción de un árbol de decisión binario.\n",
    "\n",
    "        # Suponemos que estamos parados en la raiz del árbol y tenemos que decidir cómo construirlo.\n",
    "        gain, decision = encontrar_mejor_atributo_y_corte(instancias, etiquetas)\n",
    "\n",
    "        # Criterio de corte: ¿Hay ganancia?\n",
    "        if gain <= 0:\n",
    "            #  Si no hay ganancia en separar, no separamos.\n",
    "            self.data = Counter(etiquetas)\n",
    "        else:\n",
    "            # Si hay ganancia en partir el conjunto en 2\n",
    "            (\n",
    "                instancias_cumplen,\n",
    "                etiquetas_cumplen,\n",
    "                instancias_no_cumplen,\n",
    "                etiquetas_no_cumplen,\n",
    "            ) = partir_segun(decision, instancias, etiquetas)\n",
    "            # partir devuelve instancias y etiquetas que caen en cada rama (izquierda y derecha)\n",
    "\n",
    "            # Paso recursivo (consultar con el computadorX más cercano)\n",
    "            sub_arbol_izquierdo = Tree()\n",
    "            sub_arbol_izquierdo.fit(instancias_cumplen, etiquetas_cumplen)\n",
    "            sub_arbol_derecho = Tree()\n",
    "            sub_arbol_derecho.fit(instancias_no_cumplen, etiquetas_no_cumplen)\n",
    "            # los pasos anteriores crean todo lo que necesitemos de sub-árbol izquierdo y sub-árbol derecho\n",
    "\n",
    "            self.decision = decision\n",
    "            self.left = sub_arbol_izquierdo\n",
    "            self.right = sub_arbol_derecho\n",
    "            self.data = Counter(etiquetas)\n",
    "\n",
    "    def predict(self, x_t: pd.Series) -> str:\n",
    "        if self.decision is None:\n",
    "            if self.data[\"positive\"] > self.data[\"negative\"]:\n",
    "                return \"positive\"\n",
    "            else:\n",
    "                return \"negative\"\n",
    "        else:\n",
    "            if self.decision.test(x_t):\n",
    "                return self.left.predict(x_t)\n",
    "            else:\n",
    "                return self.right.predict(x_t)\n",
    "\n",
    "    def score(self, X_test: pd.DataFrame, y_test: np.ndarray) -> float:\n",
    "        # COMPLETAR\n",
    "        pass\n",
    "\n",
    "    def __repr__(self) -> str:\n",
    "        return self._imprimir_arbol()\n",
    "\n",
    "    def _imprimir_arbol(self, spacing: str = \"\") -> str:\n",
    "        res = []\n",
    "        if self.decision is None:\n",
    "            res.append(spacing + f\"Hoja: {dict(self.data)}\")\n",
    "        else:\n",
    "            res.append(spacing + f\"{str(self.decision)} - {dict(self.data)}\")\n",
    "\n",
    "        if self.left is not None:\n",
    "            res.append(spacing + \"--> True:\")\n",
    "            res.append(self.left._imprimir_arbol(spacing + \"  \"))\n",
    "\n",
    "        if self.right is not None:\n",
    "            res.append(spacing + \"--> False:\")\n",
    "            res.append(self.right._imprimir_arbol(spacing + \"  \"))\n",
    "\n",
    "        return \"\\n\".join(res)\n",
    "\n",
    "    def render(self) -> Digraph:\n",
    "        dot = Digraph()\n",
    "\n",
    "        self.dot_tree_aux(self, dot, prefix=\"\")\n",
    "\n",
    "        return dot\n",
    "\n",
    "    def dot_tree_aux(self, subtree: \"Tree\", dot: Digraph, prefix: str):\n",
    "        label = [\n",
    "            (\n",
    "                f\"{subtree.decision.feature}: {subtree.decision.value}\"\n",
    "                if subtree.decision is not None\n",
    "                else \"\"\n",
    "            ),\n",
    "            f\"n={sum(subtree.data.values())}\",\n",
    "            str(dict(subtree.data)),\n",
    "        ]\n",
    "        label = \"\\n\".join(label)\n",
    "        col = \"#029E3980\" if subtree.data.most_common(1)[0][0] == \"Si\" else \"#EA080080\"\n",
    "        dot.node(prefix + \"n\", label=label, shape=\"box\", fillcolor=col, style=\"filled\")\n",
    "\n",
    "        if subtree.left:\n",
    "            self.dot_tree_aux(subtree.left, dot, prefix + \"l\")\n",
    "            dot.edge(prefix + \"n\", prefix + \"ln\", label=\"True\")\n",
    "\n",
    "        if subtree.right:\n",
    "            self.dot_tree_aux(subtree.right, dot, prefix + \"r\")\n",
    "            dot.edge(prefix + \"n\", prefix + \"rn\", label=\"False\")"
   ],
   "outputs": [],
   "execution_count": 4
  },
  {
   "cell_type": "markdown",
   "metadata": {},
   "source": [
    "Para la decisiones en cada nodo tendremos la siguiente clase. Actualmente funciona comparando por igualdad, pero podría ser extendida en el futuro."
   ]
  },
  {
   "cell_type": "code",
   "metadata": {
    "ExecuteTime": {
     "end_time": "2024-08-28T22:16:48.299944Z",
     "start_time": "2024-08-28T22:16:48.293110Z"
    }
   },
   "source": [
    "from typing import Any\n",
    "\n",
    "class Decision:\n",
    "    def __init__(self, feature: str, value: Any, test_function=operator.eq):\n",
    "        self.feature = feature\n",
    "        self.value = value\n",
    "        self.test_function = test_function\n",
    "\n",
    "    def test(self, x: pd.Series) -> bool:\n",
    "        # Devuelve verdadero si la instancia cumple con la pregunta\n",
    "        return self.test_function(self.value, x[self.feature])\n",
    "\n",
    "    def __repr__(self):\n",
    "        return \"¿Es el valor para {} igual a {}?\".format(self.feature, self.value)"
   ],
   "outputs": [],
   "execution_count": 5
  },
  {
   "cell_type": "markdown",
   "metadata": {},
   "source": [
    "## Funciones a completar\n",
    "\n",
    "Primero definir la función `gini`, que dado unas etiquetas dan el grado de impureza (ver definición en la teórica), se espera que devuelva un `float`."
   ]
  },
  {
   "cell_type": "code",
   "metadata": {
    "ExecuteTime": {
     "end_time": "2024-08-28T22:41:33.748743Z",
     "start_time": "2024-08-28T22:41:33.743728Z"
    }
   },
   "source": [
    "def gini(etiquetas: np.ndarray) -> float:\n",
    "    _, counts = np.unique(etiquetas, return_counts=True)\n",
    "    proporciones = counts / counts.sum()\n",
    "    impureza = 1 - sum(proporciones**2)\n",
    "    return impureza"
   ],
   "outputs": [],
   "execution_count": 7
  },
  {
   "cell_type": "markdown",
   "metadata": {},
   "source": [
    "Definir la función `ganancia_gini` que dadas ciertas instancias y una posible separación entre dos ramas nos de la mejora que obtendremos al separar de esta manera. Devuelve un `float`."
   ]
  },
  {
   "cell_type": "code",
   "metadata": {
    "ExecuteTime": {
     "end_time": "2024-08-28T22:44:59.993385Z",
     "start_time": "2024-08-28T22:44:59.987099Z"
    }
   },
   "source": [
    "def ganancia_gini(etiquetas_rama_izquierda: np.ndarray, etiquetas_rama_derecha: np.ndarray) -> float:\n",
    "    gini_s = gini(np.concatenate([etiquetas_rama_izquierda, etiquetas_rama_derecha]))\n",
    "    gini_izquierda = gini(etiquetas_rama_izquierda)\n",
    "    gini_derecha = gini(etiquetas_rama_derecha)\n",
    "    total = len(etiquetas_rama_izquierda) + len(etiquetas_rama_derecha)\n",
    "    prop_izquierda = len(etiquetas_rama_izquierda) / total\n",
    "    prop_derecha = len(etiquetas_rama_derecha) / total\n",
    "    \n",
    "    ganancia_gini = gini_s - (prop_izquierda * gini_izquierda + prop_derecha * gini_derecha)\n",
    "    return ganancia_gini"
   ],
   "outputs": [],
   "execution_count": 8
  },
  {
   "cell_type": "markdown",
   "metadata": {},
   "source": [
    "Definir `partir_segun` que debe separar instancias y etiquetas según si cada instancia cumple o no con condición (ver método `test` de la clase `Decision`).\n",
    "\n",
    "Para este punto se recomienda la utilizacion de máscaras de pandas (ver Notebook 01 - Herramientas).\n",
    "\n",
    "Siguiendo con lo mencionado al inicio del NoteBook, la función debe devolver:\n",
    "\n",
    "   - 2 `DataFrame` de `pandas` con las instancias que cumplen (`instancias_cumplen`) y las que no `instancias_no_cumplen`\n",
    "   - 2 `array` de `numpy` con valores `'Si'`, `'No'`, uno con el valor de la etiqueta para las intancias que cumplen con la pregunta (`etiquetas_cumplen`) y otro con las etiquetas de las que no cumple (`etiquetas_cumplen`)\n"
   ]
  },
  {
   "cell_type": "code",
   "metadata": {
    "ExecuteTime": {
     "end_time": "2024-08-28T22:50:12.698406Z",
     "start_time": "2024-08-28T22:50:12.693290Z"
    }
   },
   "source": [
    "def partir_segun(\n",
    "    pregunta: Decision, \n",
    "    instancias: pd.DataFrame, \n",
    "    etiquetas: np.ndarray\n",
    ") -> Tuple[pd.DataFrame, np.ndarray, pd.DataFrame, np.ndarray]:\n",
    "    # Esta función debe separar instancias y etiquetas según si cada instancia cumple o no\n",
    "    instancias_cumplen = instancias[instancias.apply(pregunta.test, axis=1)]\n",
    "    instancias_no_cumplen = instancias[~instancias.apply(pregunta.test, axis=1)]\n",
    "    \n",
    "    etiquetas_cumplen = etiquetas[instancias_cumplen.index]\n",
    "    etiquetas_no_cumplen = etiquetas[instancias_no_cumplen.index]\n",
    "    return instancias_cumplen, etiquetas_cumplen, instancias_no_cumplen, etiquetas_no_cumplen"
   ],
   "outputs": [],
   "execution_count": 9
  },
  {
   "cell_type": "markdown",
   "metadata": {},
   "source": [
    "A continuación se propone una implementación para poder encontrar el mejor atributo y corte posible. Esta función devuelve un `float` y una `Decision` correspondientes al mejor atributo y corte."
   ]
  },
  {
   "cell_type": "code",
   "metadata": {
    "ExecuteTime": {
     "end_time": "2024-08-28T22:51:43.701019Z",
     "start_time": "2024-08-28T22:51:43.695015Z"
    }
   },
   "source": [
    "def encontrar_mejor_atributo_y_corte(\n",
    "    instancias: pd.DataFrame, etiquetas: np.ndarray\n",
    ") -> Tuple[float, Decision]:\n",
    "    # Implementación Gini Gain.\n",
    "    max_ganancia = 0\n",
    "    mejor_pregunta = None\n",
    "    for columna in instancias.columns:\n",
    "        for valor in set(instancias[columna]):\n",
    "            # Probando corte para atributo y valor\n",
    "            pregunta = Decision(columna, valor)\n",
    "            _, etiquetas_rama_izquierda, _, etiquetas_rama_derecha = partir_segun(\n",
    "                pregunta, instancias, etiquetas\n",
    "            )\n",
    "            if len(etiquetas_rama_izquierda) == 0 or len(etiquetas_rama_derecha) == 0:\n",
    "                continue\n",
    "\n",
    "            ganancia = ganancia_gini(etiquetas_rama_izquierda, etiquetas_rama_derecha)\n",
    "\n",
    "            if ganancia > max_ganancia:\n",
    "                max_ganancia = ganancia\n",
    "                mejor_pregunta = pregunta\n",
    "\n",
    "    return max_ganancia, mejor_pregunta"
   ],
   "outputs": [],
   "execution_count": 10
  },
  {
   "cell_type": "markdown",
   "metadata": {},
   "source": [
    "Dado el siguiente dataset:"
   ]
  },
  {
   "cell_type": "code",
   "metadata": {
    "ExecuteTime": {
     "end_time": "2024-08-28T22:51:57.139168Z",
     "start_time": "2024-08-28T22:51:50.960185Z"
    }
   },
   "source": [
    "from sklearn.datasets import fetch_openml\n",
    "import sklearn.model_selection\n",
    "\n",
    "tictactoe = fetch_openml(name='tic-tac-toe', version=1, as_frame=True)\n",
    "X_train, X_test, y_train, y_test = sklearn.model_selection.train_test_split(\n",
    "                    tictactoe['data'], \n",
    "                    tictactoe['target'], \n",
    "                    random_state=4, \n",
    "                    test_size=0.1)"
   ],
   "outputs": [],
   "execution_count": 11
  },
  {
   "metadata": {
    "ExecuteTime": {
     "end_time": "2024-08-29T00:58:45.749804Z",
     "start_time": "2024-08-29T00:58:45.740572Z"
    }
   },
   "cell_type": "code",
   "source": [
    "# Feedback: algo de info sobre el dataset y qué queremos predecir\n",
    "print(tictactoe['DESCR'])"
   ],
   "outputs": [
    {
     "name": "stdout",
     "output_type": "stream",
     "text": [
      "**Author**: David W. Aha    \n",
      "**Source**: [UCI](https://archive.ics.uci.edu/ml/datasets/Tic-Tac-Toe+Endgame) - 1991   \n",
      "**Please cite**: [UCI](http://archive.ics.uci.edu/ml/citation_policy.html)\n",
      "\n",
      "**Tic-Tac-Toe Endgame database**  \n",
      "This database encodes the complete set of possible board configurations at the end of tic-tac-toe games, where \"x\" is assumed to have played first.  The target concept is \"win for x\" (i.e., true when \"x\" has one of 8 possible ways to create a \"three-in-a-row\").  \n",
      "\n",
      "### Attribute Information  \n",
      "\n",
      "     (x=player x has taken, o=player o has taken, b=blank)\n",
      "     1. top-left-square: {x,o,b}\n",
      "     2. top-middle-square: {x,o,b}\n",
      "     3. top-right-square: {x,o,b}\n",
      "     4. middle-left-square: {x,o,b}\n",
      "     5. middle-middle-square: {x,o,b}\n",
      "     6. middle-right-square: {x,o,b}\n",
      "     7. bottom-left-square: {x,o,b}\n",
      "     8. bottom-middle-square: {x,o,b}\n",
      "     9. bottom-right-square: {x,o,b}\n",
      "    10. Class: {positive,negative}\n",
      "\n",
      "Downloaded from openml.org.\n"
     ]
    }
   ],
   "execution_count": 21
  },
  {
   "cell_type": "markdown",
   "metadata": {},
   "source": [
    "Completar las funciones previas, entrenar y visualizar un Árbol de Decisión."
   ]
  },
  {
   "cell_type": "code",
   "metadata": {
    "ExecuteTime": {
     "end_time": "2024-08-29T01:07:19.950284Z",
     "start_time": "2024-08-29T01:06:01.695305Z"
    }
   },
   "source": [
    "arbol = Tree()\n",
    "arbol.fit(X_train, y_train)"
   ],
   "outputs": [],
   "execution_count": 23
  },
  {
   "metadata": {
    "ExecuteTime": {
     "end_time": "2024-08-29T01:07:20.682310Z",
     "start_time": "2024-08-29T01:07:19.952317Z"
    }
   },
   "cell_type": "code",
   "source": [
    "print(arbol)\n",
    "dot = arbol.render()\n",
    "# save to file\n",
    "dot.render('arbol', format='png', cleanup=True)"
   ],
   "outputs": [
    {
     "name": "stdout",
     "output_type": "stream",
     "text": [
      "¿Es el valor para middle-middle-square igual a o? - {'negative': 295, 'positive': 567}\n",
      "--> True:\n",
      "  ¿Es el valor para top-left-square igual a x? - {'negative': 172, 'positive': 134}\n",
      "  --> True:\n",
      "    ¿Es el valor para top-right-square igual a x? - {'negative': 68, 'positive': 79}\n",
      "    --> True:\n",
      "      ¿Es el valor para top-middle-square igual a x? - {'negative': 21, 'positive': 45}\n",
      "      --> True:\n",
      "        Hoja: {'positive': 37}\n",
      "      --> False:\n",
      "        ¿Es el valor para bottom-middle-square igual a b? - {'negative': 21, 'positive': 8}\n",
      "        --> True:\n",
      "          ¿Es el valor para middle-left-square igual a o? - {'negative': 3, 'positive': 4}\n",
      "          --> True:\n",
      "            ¿Es el valor para middle-right-square igual a x? - {'negative': 3, 'positive': 1}\n",
      "            --> True:\n",
      "              Hoja: {'positive': 1}\n",
      "            --> False:\n",
      "              Hoja: {'negative': 3}\n",
      "          --> False:\n",
      "            Hoja: {'positive': 3}\n",
      "        --> False:\n",
      "          ¿Es el valor para top-middle-square igual a b? - {'negative': 18, 'positive': 4}\n",
      "          --> True:\n",
      "            ¿Es el valor para bottom-middle-square igual a x? - {'positive': 3, 'negative': 5}\n",
      "            --> True:\n",
      "              Hoja: {'negative': 3}\n",
      "            --> False:\n",
      "              ¿Es el valor para bottom-right-square igual a o? - {'positive': 3, 'negative': 2}\n",
      "              --> True:\n",
      "                Hoja: {'negative': 1}\n",
      "              --> False:\n",
      "                ¿Es el valor para middle-left-square igual a o? - {'positive': 3, 'negative': 1}\n",
      "                --> True:\n",
      "                  ¿Es el valor para middle-right-square igual a x? - {'negative': 1, 'positive': 1}\n",
      "                  --> True:\n",
      "                    Hoja: {'positive': 1}\n",
      "                  --> False:\n",
      "                    Hoja: {'negative': 1}\n",
      "                --> False:\n",
      "                  Hoja: {'positive': 2}\n",
      "          --> False:\n",
      "            ¿Es el valor para bottom-left-square igual a o? - {'negative': 13, 'positive': 1}\n",
      "            --> True:\n",
      "              ¿Es el valor para middle-left-square igual a x? - {'negative': 3, 'positive': 1}\n",
      "              --> True:\n",
      "                Hoja: {'negative': 3}\n",
      "              --> False:\n",
      "                Hoja: {'positive': 1}\n",
      "            --> False:\n",
      "              Hoja: {'negative': 10}\n",
      "    --> False:\n",
      "      ¿Es el valor para bottom-left-square igual a x? - {'negative': 47, 'positive': 34}\n",
      "      --> True:\n",
      "        ¿Es el valor para middle-left-square igual a x? - {'negative': 12, 'positive': 34}\n",
      "        --> True:\n",
      "          Hoja: {'positive': 28}\n",
      "        --> False:\n",
      "          ¿Es el valor para middle-right-square igual a b? - {'negative': 12, 'positive': 6}\n",
      "          --> True:\n",
      "            Hoja: {'positive': 3}\n",
      "          --> False:\n",
      "            ¿Es el valor para bottom-middle-square igual a x? - {'negative': 12, 'positive': 3}\n",
      "            --> True:\n",
      "              ¿Es el valor para bottom-right-square igual a x? - {'negative': 4, 'positive': 3}\n",
      "              --> True:\n",
      "                Hoja: {'positive': 3}\n",
      "              --> False:\n",
      "                Hoja: {'negative': 4}\n",
      "            --> False:\n",
      "              Hoja: {'negative': 8}\n",
      "      --> False:\n",
      "        Hoja: {'negative': 35}\n",
      "  --> False:\n",
      "    ¿Es el valor para bottom-right-square igual a x? - {'negative': 104, 'positive': 55}\n",
      "    --> True:\n",
      "      ¿Es el valor para top-middle-square igual a x? - {'positive': 55, 'negative': 35}\n",
      "      --> True:\n",
      "        ¿Es el valor para bottom-left-square igual a o? - {'positive': 12, 'negative': 19}\n",
      "        --> True:\n",
      "          ¿Es el valor para top-right-square igual a x? - {'negative': 12, 'positive': 2}\n",
      "          --> True:\n",
      "            ¿Es el valor para middle-right-square igual a x? - {'negative': 3, 'positive': 2}\n",
      "            --> True:\n",
      "              Hoja: {'positive': 2}\n",
      "            --> False:\n",
      "              Hoja: {'negative': 3}\n",
      "          --> False:\n",
      "            Hoja: {'negative': 9}\n",
      "        --> False:\n",
      "          ¿Es el valor para middle-right-square igual a o? - {'positive': 10, 'negative': 7}\n",
      "          --> True:\n",
      "            ¿Es el valor para top-right-square igual a x? - {'negative': 6, 'positive': 3}\n",
      "            --> True:\n",
      "              Hoja: {'negative': 5}\n",
      "            --> False:\n",
      "              ¿Es el valor para middle-left-square igual a o? - {'positive': 3, 'negative': 1}\n",
      "              --> True:\n",
      "                Hoja: {'negative': 1}\n",
      "              --> False:\n",
      "                Hoja: {'positive': 3}\n",
      "          --> False:\n",
      "            ¿Es el valor para middle-left-square igual a x? - {'positive': 7, 'negative': 1}\n",
      "            --> True:\n",
      "              Hoja: {'negative': 1}\n",
      "            --> False:\n",
      "              Hoja: {'positive': 7}\n",
      "      --> False:\n",
      "        ¿Es el valor para bottom-middle-square igual a o? - {'positive': 43, 'negative': 16}\n",
      "        --> True:\n",
      "          ¿Es el valor para top-middle-square igual a b? - {'positive': 5, 'negative': 8}\n",
      "          --> True:\n",
      "            Hoja: {'positive': 5}\n",
      "          --> False:\n",
      "            Hoja: {'negative': 8}\n",
      "        --> False:\n",
      "          ¿Es el valor para top-right-square igual a o? - {'positive': 38, 'negative': 8}\n",
      "          --> True:\n",
      "            ¿Es el valor para bottom-left-square igual a x? - {'positive': 7, 'negative': 6}\n",
      "            --> True:\n",
      "              ¿Es el valor para bottom-middle-square igual a b? - {'positive': 7, 'negative': 1}\n",
      "              --> True:\n",
      "                Hoja: {'negative': 1}\n",
      "              --> False:\n",
      "                Hoja: {'positive': 7}\n",
      "            --> False:\n",
      "              Hoja: {'negative': 5}\n",
      "          --> False:\n",
      "            ¿Es el valor para middle-right-square igual a o? - {'positive': 31, 'negative': 2}\n",
      "            --> True:\n",
      "              ¿Es el valor para middle-left-square igual a o? - {'positive': 5, 'negative': 2}\n",
      "              --> True:\n",
      "                Hoja: {'negative': 2}\n",
      "              --> False:\n",
      "                Hoja: {'positive': 5}\n",
      "            --> False:\n",
      "              Hoja: {'positive': 26}\n",
      "    --> False:\n",
      "      Hoja: {'negative': 69}\n",
      "--> False:\n",
      "  ¿Es el valor para bottom-left-square igual a o? - {'positive': 433, 'negative': 123}\n",
      "  --> True:\n",
      "    ¿Es el valor para top-left-square igual a o? - {'positive': 137, 'negative': 70}\n",
      "    --> True:\n",
      "      ¿Es el valor para middle-left-square igual a o? - {'negative': 39, 'positive': 32}\n",
      "      --> True:\n",
      "        Hoja: {'negative': 31}\n",
      "      --> False:\n",
      "        ¿Es el valor para bottom-right-square igual a b? - {'positive': 32, 'negative': 8}\n",
      "        --> True:\n",
      "          Hoja: {'positive': 12}\n",
      "        --> False:\n",
      "          ¿Es el valor para top-right-square igual a b? - {'positive': 20, 'negative': 8}\n",
      "          --> True:\n",
      "            Hoja: {'positive': 6}\n",
      "          --> False:\n",
      "            ¿Es el valor para top-middle-square igual a b? - {'negative': 8, 'positive': 14}\n",
      "            --> True:\n",
      "              Hoja: {'positive': 3}\n",
      "            --> False:\n",
      "              ¿Es el valor para bottom-middle-square igual a o? - {'negative': 8, 'positive': 11}\n",
      "              --> True:\n",
      "                ¿Es el valor para bottom-right-square igual a x? - {'negative': 4, 'positive': 3}\n",
      "                --> True:\n",
      "                  ¿Es el valor para middle-right-square igual a x? - {'positive': 3, 'negative': 1}\n",
      "                  --> True:\n",
      "                    Hoja: {'positive': 3}\n",
      "                  --> False:\n",
      "                    Hoja: {'negative': 1}\n",
      "                --> False:\n",
      "                  Hoja: {'negative': 3}\n",
      "              --> False:\n",
      "                ¿Es el valor para top-middle-square igual a x? - {'positive': 8, 'negative': 4}\n",
      "                --> True:\n",
      "                  Hoja: {'positive': 5}\n",
      "                --> False:\n",
      "                  ¿Es el valor para top-right-square igual a x? - {'positive': 3, 'negative': 4}\n",
      "                  --> True:\n",
      "                    ¿Es el valor para middle-right-square igual a x? - {'positive': 3, 'negative': 1}\n",
      "                    --> True:\n",
      "                      Hoja: {'positive': 3}\n",
      "                    --> False:\n",
      "                      Hoja: {'negative': 1}\n",
      "                  --> False:\n",
      "                    Hoja: {'negative': 3}\n",
      "    --> False:\n",
      "      ¿Es el valor para bottom-right-square igual a o? - {'positive': 105, 'negative': 31}\n",
      "      --> True:\n",
      "        ¿Es el valor para bottom-middle-square igual a o? - {'positive': 23, 'negative': 31}\n",
      "        --> True:\n",
      "          Hoja: {'negative': 26}\n",
      "        --> False:\n",
      "          ¿Es el valor para middle-right-square igual a o? - {'positive': 23, 'negative': 5}\n",
      "          --> True:\n",
      "            ¿Es el valor para top-right-square igual a o? - {'positive': 6, 'negative': 4}\n",
      "            --> True:\n",
      "              Hoja: {'negative': 3}\n",
      "            --> False:\n",
      "              ¿Es el valor para top-middle-square igual a x? - {'positive': 6, 'negative': 1}\n",
      "              --> True:\n",
      "                Hoja: {'positive': 6}\n",
      "              --> False:\n",
      "                Hoja: {'negative': 1}\n",
      "          --> False:\n",
      "            ¿Es el valor para top-middle-square igual a o? - {'positive': 17, 'negative': 1}\n",
      "            --> True:\n",
      "              ¿Es el valor para middle-left-square igual a x? - {'positive': 4, 'negative': 1}\n",
      "              --> True:\n",
      "                Hoja: {'positive': 4}\n",
      "              --> False:\n",
      "                Hoja: {'negative': 1}\n",
      "            --> False:\n",
      "              Hoja: {'positive': 13}\n",
      "      --> False:\n",
      "        Hoja: {'positive': 82}\n",
      "  --> False:\n",
      "    ¿Es el valor para top-right-square igual a o? - {'positive': 296, 'negative': 53}\n",
      "    --> True:\n",
      "      ¿Es el valor para top-left-square igual a o? - {'negative': 53, 'positive': 92}\n",
      "      --> True:\n",
      "        ¿Es el valor para top-middle-square igual a o? - {'negative': 32, 'positive': 23}\n",
      "        --> True:\n",
      "          Hoja: {'negative': 27}\n",
      "        --> False:\n",
      "          ¿Es el valor para middle-right-square igual a o? - {'positive': 23, 'negative': 5}\n",
      "          --> True:\n",
      "            ¿Es el valor para bottom-right-square igual a o? - {'positive': 7, 'negative': 4}\n",
      "            --> True:\n",
      "              Hoja: {'negative': 3}\n",
      "            --> False:\n",
      "              ¿Es el valor para bottom-middle-square igual a x? - {'positive': 7, 'negative': 1}\n",
      "              --> True:\n",
      "                Hoja: {'positive': 7}\n",
      "              --> False:\n",
      "                Hoja: {'negative': 1}\n",
      "          --> False:\n",
      "            ¿Es el valor para bottom-middle-square igual a o? - {'positive': 16, 'negative': 1}\n",
      "            --> True:\n",
      "              ¿Es el valor para middle-left-square igual a x? - {'positive': 4, 'negative': 1}\n",
      "              --> True:\n",
      "                Hoja: {'positive': 4}\n",
      "              --> False:\n",
      "                Hoja: {'negative': 1}\n",
      "            --> False:\n",
      "              Hoja: {'positive': 12}\n",
      "      --> False:\n",
      "        ¿Es el valor para bottom-right-square igual a o? - {'positive': 69, 'negative': 21}\n",
      "        --> True:\n",
      "          ¿Es el valor para middle-right-square igual a o? - {'positive': 16, 'negative': 21}\n",
      "          --> True:\n",
      "            Hoja: {'negative': 20}\n",
      "          --> False:\n",
      "            ¿Es el valor para middle-left-square igual a o? - {'positive': 16, 'negative': 1}\n",
      "            --> True:\n",
      "              ¿Es el valor para bottom-middle-square igual a x? - {'negative': 1, 'positive': 3}\n",
      "              --> True:\n",
      "                Hoja: {'positive': 3}\n",
      "              --> False:\n",
      "                Hoja: {'negative': 1}\n",
      "            --> False:\n",
      "              Hoja: {'positive': 13}\n",
      "        --> False:\n",
      "          Hoja: {'positive': 53}\n",
      "    --> False:\n",
      "      Hoja: {'positive': 204}\n"
     ]
    },
    {
     "data": {
      "text/plain": [
       "'arbol.png'"
      ]
     },
     "execution_count": 24,
     "metadata": {},
     "output_type": "execute_result"
    }
   ],
   "execution_count": 24
  },
  {
   "cell_type": "markdown",
   "metadata": {},
   "source": [
    "Para evaluar instancias en el árbol podemos elegir alguna del conjunto de testeo y evaluarlas de la siguiente manera:"
   ]
  },
  {
   "cell_type": "code",
   "metadata": {
    "ExecuteTime": {
     "end_time": "2024-08-29T01:09:24.022753Z",
     "start_time": "2024-08-29T01:09:24.011721Z"
    }
   },
   "source": [
    "xs_nuevo = X_test.head(4).to_dict(orient='records')\n",
    "\n",
    "for instancia in xs_nuevo:\n",
    "    res = arbol.predict(instancia)\n",
    "    print(f\"Para una instancia {instancia} obtuve {res}\")"
   ],
   "outputs": [
    {
     "name": "stdout",
     "output_type": "stream",
     "text": [
      "Para una instancia {'top-left-square': 'x', 'top-middle-square': 'x', 'top-right-square': 'o', 'middle-left-square': 'x', 'middle-middle-square': 'x', 'middle-right-square': 'b', 'bottom-left-square': 'o', 'bottom-middle-square': 'o', 'bottom-right-square': 'o'} obtuve negative\n",
      "Para una instancia {'top-left-square': 'o', 'top-middle-square': 'b', 'top-right-square': 'x', 'middle-left-square': 'o', 'middle-middle-square': 'x', 'middle-right-square': 'x', 'bottom-left-square': 'o', 'bottom-middle-square': 'b', 'bottom-right-square': 'b'} obtuve negative\n",
      "Para una instancia {'top-left-square': 'b', 'top-middle-square': 'o', 'top-right-square': 'b', 'middle-left-square': 'x', 'middle-middle-square': 'o', 'middle-right-square': 'b', 'bottom-left-square': 'x', 'bottom-middle-square': 'o', 'bottom-right-square': 'x'} obtuve negative\n",
      "Para una instancia {'top-left-square': 'x', 'top-middle-square': 'x', 'top-right-square': 'x', 'middle-left-square': 'b', 'middle-middle-square': 'b', 'middle-right-square': 'o', 'bottom-left-square': 'o', 'bottom-middle-square': 'b', 'bottom-right-square': 'b'} obtuve positive\n"
     ]
    }
   ],
   "execution_count": 25
  },
  {
   "cell_type": "markdown",
   "metadata": {},
   "source": [
    "¿Se obtuvieron los valores esperados? Explorar al menos 1 caso por cada rama del árbol."
   ]
  },
  {
   "metadata": {
    "ExecuteTime": {
     "end_time": "2024-08-30T17:59:11.790867Z",
     "start_time": "2024-08-30T17:58:02.337510Z"
    }
   },
   "cell_type": "code",
   "source": [
    "import tkinter as tk\n",
    "\n",
    "class TicTacToe:\n",
    "    def __init__(self, root, prediction_model):\n",
    "        self.model = prediction_model\n",
    "        self.turn_count = 0\n",
    "        self.root = root\n",
    "        self.root.title(\"Tic Tac Toe\")\n",
    "        self.board_state = {\n",
    "            'top-left-square': 'b', 'top-middle-square': 'b', 'top-right-square': 'b',\n",
    "            'middle-left-square': 'b', 'middle-middle-square': 'b', 'middle-right-square': 'b',\n",
    "            'bottom-left-square': 'b', 'bottom-middle-square': 'b', 'bottom-right-square': 'b'\n",
    "        }\n",
    "        self.current_player = 'X'\n",
    "        self.buttons = {}\n",
    "        self.create_board()\n",
    "        self.status_label = tk.Label(self.root, text=\"Player X's turn\", font=('Helvetica', 14))\n",
    "        self.status_label.grid(row=3, column=0, columnspan=3)\n",
    "\n",
    "    def create_board(self):\n",
    "        self.turn_count = 0\n",
    "        positions = [\n",
    "            ('top-left-square', 0, 0), ('top-middle-square', 0, 1), ('top-right-square', 0, 2),\n",
    "            ('middle-left-square', 1, 0), ('middle-middle-square', 1, 1), ('middle-right-square', 1, 2),\n",
    "            ('bottom-left-square', 2, 0), ('bottom-middle-square', 2, 1), ('bottom-right-square', 2, 2)\n",
    "        ]\n",
    "        for pos, row, col in positions:\n",
    "            button = tk.Button(self.root, text='', width=10, height=3, font=('Helvetica', 24), \n",
    "                               command=lambda pos=pos: self.make_move(pos))\n",
    "            button.grid(row=row, column=col)\n",
    "            self.buttons[pos] = button\n",
    "\n",
    "    def make_move(self, pos):\n",
    "        if self.buttons[pos]['text'] == '':\n",
    "            self.turn_count += 1\n",
    "            self.buttons[pos]['text'] = self.current_player\n",
    "            self.board_state[pos] = self.current_player.lower()\n",
    "            if self.current_player == 'X':\n",
    "                self.current_player = 'O'\n",
    "                self.status_label.config(text=\"Player O's turn\")\n",
    "            else:\n",
    "                self.current_player = 'X'\n",
    "                self.status_label.config(text=\"Player X's turn\")\n",
    "        print(f\"Turn: {self.turn_count}, Board: {self.board_state}, Prediction: {self.model.predict(pd.Series(self.board_state))}\")\n",
    "        \n",
    "root = tk.Tk()\n",
    "game = TicTacToe(root, arbol)\n",
    "root.mainloop()"
   ],
   "outputs": [
    {
     "name": "stdout",
     "output_type": "stream",
     "text": [
      "Turn: 1, Board: {'top-left-square': 'b', 'top-middle-square': 'b', 'top-right-square': 'b', 'middle-left-square': 'b', 'middle-middle-square': 'b', 'middle-right-square': 'x', 'bottom-left-square': 'b', 'bottom-middle-square': 'b', 'bottom-right-square': 'b'}, Prediction: positive\n",
      "Turn: 2, Board: {'top-left-square': 'b', 'top-middle-square': 'b', 'top-right-square': 'b', 'middle-left-square': 'b', 'middle-middle-square': 'o', 'middle-right-square': 'x', 'bottom-left-square': 'b', 'bottom-middle-square': 'b', 'bottom-right-square': 'b'}, Prediction: negative\n",
      "Turn: 3, Board: {'top-left-square': 'b', 'top-middle-square': 'b', 'top-right-square': 'x', 'middle-left-square': 'b', 'middle-middle-square': 'o', 'middle-right-square': 'x', 'bottom-left-square': 'b', 'bottom-middle-square': 'b', 'bottom-right-square': 'b'}, Prediction: negative\n",
      "Turn: 4, Board: {'top-left-square': 'b', 'top-middle-square': 'b', 'top-right-square': 'x', 'middle-left-square': 'b', 'middle-middle-square': 'o', 'middle-right-square': 'x', 'bottom-left-square': 'b', 'bottom-middle-square': 'b', 'bottom-right-square': 'o'}, Prediction: negative\n",
      "Turn: 5, Board: {'top-left-square': 'x', 'top-middle-square': 'b', 'top-right-square': 'x', 'middle-left-square': 'b', 'middle-middle-square': 'o', 'middle-right-square': 'x', 'bottom-left-square': 'b', 'bottom-middle-square': 'b', 'bottom-right-square': 'o'}, Prediction: positive\n"
     ]
    }
   ],
   "execution_count": 31
  },
  {
   "cell_type": "markdown",
   "metadata": {},
   "source": [
    "## Importancia de los atributos"
   ]
  },
  {
   "cell_type": "markdown",
   "metadata": {},
   "source": [
    "A continuación, implementaremos dos métodos distintos para medir la importancia de los atributos en nuestro árbol de decisión. Estos métodos nos permitirán entender mejor qué variables tienen mayor influencia en las predicciones del modelo. El primer método que implementaremos es la Importancia Gini, que se basa en la reducción de la impureza Gini en cada nodo del árbol. El segundo método es la Importancia por Permutación, que evalúa cuánto empeora el rendimiento del modelo cuando los valores de una característica se permutan aleatoriamente."
   ]
  },
  {
   "cell_type": "markdown",
   "metadata": {},
   "source": [
    "*Gini importance*"
   ]
  },
  {
   "cell_type": "code",
   "metadata": {
    "ExecuteTime": {
     "end_time": "2024-08-30T18:10:22.463832Z",
     "start_time": "2024-08-30T18:10:22.429102Z"
    }
   },
   "source": [
    "def gini_importance(tree: Tree) -> dict:\n",
    "    \"\"\"\n",
    "    Calcula la Disminución Media en la Impureza (Importancia Gini) para un árbol de decisión entrenado.\n",
    "\n",
    "    Argumentos:\n",
    "    - arbol: Una instancia de Tree entrenada\n",
    "\n",
    "    Retorna:\n",
    "    - Un diccionario que asocia los nombres de los atributos con sus puntajes de importancia Gini\n",
    "    \"\"\"\n",
    "    \n",
    "    importance = {}\n",
    "    \n",
    "    def recorrer_arbol(node: Tree, parent_samples: int):\n",
    "        # Si es una hoja termina la recursión\n",
    "        if node.decision is None:  \n",
    "            return\n",
    "        \n",
    "        # Qué atributo se uso en ese nodo\n",
    "        feature = node.decision.feature \n",
    "        \n",
    "        # Si todavia no habiamos usado ese atributo para partir un nodo\n",
    "        if feature not in importance:\n",
    "            importance[feature] = 0\n",
    "        \n",
    "        # Calculamos Gini gain del corte\n",
    "        # de la teórica: el score asignado a una predicción está dado por la fracción de instancias de la clase mayoritaria de cada hoja\n",
    "        etiquetas_rama_izquierda = np.array([1 if x == 'positive' else 0 for x in node.left.data.keys()])\n",
    "        etiquetas_rama_derecha = np.array([1 if x == 'positive' else 0 for x in node.right.data.keys()])\n",
    "        gini_gain = ganancia_gini(etiquetas_rama_izquierda, etiquetas_rama_derecha)\n",
    "        \n",
    "        # Actualizamos el valor de ese atributo\n",
    "        importance[feature] = importance[feature] + gini_gain * sum(node.data.values()) / parent_samples\n",
    "        \n",
    "        # Recorrer recursivamente los subárboles\n",
    "        recorrer_arbol(node.left, parent_samples)\n",
    "        recorrer_arbol(node.right, parent_samples)\n",
    "    \n",
    "    # Arrancamos el recorrido desde la raíz\n",
    "    cantidad_total = sum(tree.data.values())\n",
    "    recorrer_arbol(tree, cantidad_total)\n",
    "    \n",
    "    return importance"
   ],
   "outputs": [],
   "execution_count": 38
  },
  {
   "cell_type": "code",
   "metadata": {
    "ExecuteTime": {
     "end_time": "2024-08-30T18:10:22.882838Z",
     "start_time": "2024-08-30T18:10:22.855696Z"
    }
   },
   "source": [
    "gini_importance(arbol)"
   ],
   "outputs": [
    {
     "data": {
      "text/plain": [
       "{'middle-middle-square': np.float64(0.0),\n",
       " 'top-left-square': np.float64(0.0),\n",
       " 'top-right-square': np.float64(0.05375096674400619),\n",
       " 'top-middle-square': np.float64(0.03390048981696313),\n",
       " 'bottom-middle-square': np.float64(0.023717452951791698),\n",
       " 'middle-left-square': np.float64(0.03783191544212426),\n",
       " 'middle-right-square': np.float64(0.022364011343129674),\n",
       " 'bottom-right-square': np.float64(0.06180716679556587),\n",
       " 'bottom-left-square': np.float64(0.013921113689095127)}"
      ]
     },
     "execution_count": 39,
     "metadata": {},
     "output_type": "execute_result"
    }
   ],
   "execution_count": 39
  },
  {
   "cell_type": "markdown",
   "metadata": {},
   "source": [
    "*Permutation importance*"
   ]
  },
  {
   "cell_type": "code",
   "metadata": {
    "ExecuteTime": {
     "end_time": "2024-08-30T18:18:44.763374Z",
     "start_time": "2024-08-30T18:18:44.752964Z"
    }
   },
   "source": [
    "from typing import Callable\n",
    "\n",
    "def permutation_importance(\n",
    "    tree: Tree,\n",
    "    X: pd.DataFrame,\n",
    "    y: np.ndarray,\n",
    "    score_func: Callable,\n",
    "    n_repeats: int = 10\n",
    ") -> dict:\n",
    "    \"\"\"\n",
    "    Calcula la importancia por permutación para los atributos en un árbol entrenado.\n",
    "\n",
    "    Argumentos:\n",
    "    - tree: Instancia de Tree entrenada\n",
    "    - X: DataFrame de atributos\n",
    "    - y: Vector de etiquetas \n",
    "    - score_func: Función para calcular el puntaje (por ejemplo, accuracy_score, r2_score)\n",
    "    - n_repeats: Número de veces para repetir el proceso de permutación\n",
    "\n",
    "    Retorna:\n",
    "    - Diccionario de importancias de los atributos\n",
    "    \"\"\"\n",
    "    \n",
    "    # Calcular el puntaje de referencia\n",
    "    y_pred = np.array([tree.predict(x) for _, x in X.iterrows()])\n",
    "    reference_score = score_func(y, y_pred)\n",
    "    \n",
    "    n_samples, n_features = X.shape\n",
    "    importances = {}\n",
    "\n",
    "    for feature in X.columns:\n",
    "        feature_importance = []\n",
    "        \n",
    "        for _ in range(n_repeats):\n",
    "            # Crear una copia de los datos\n",
    "            X_corrupted = X.copy()\n",
    "            \n",
    "            # Permutar aleatoriamente los valores en la columna feature\n",
    "            X_corrupted[feature] = np.random.permutation(X_corrupted[feature])\n",
    "            \n",
    "            # Calcular el nuevo score usando los datos corrompidos\n",
    "            corrupted_score = score_func(y, np.array([tree.predict(x) for _, x in X_corrupted.iterrows()]))\n",
    "            \n",
    "            feature_importance.append(corrupted_score)\n",
    "        \n",
    "        # Calcular la importancia para este atributo según el algoritmo (de permutation importance)\n",
    "        importances[feature] = reference_score - np.mean(feature_importance)\n",
    "\n",
    "    return importances"
   ],
   "outputs": [],
   "execution_count": 40
  },
  {
   "cell_type": "code",
   "metadata": {
    "ExecuteTime": {
     "end_time": "2024-08-30T18:26:29.953143Z",
     "start_time": "2024-08-30T18:26:20.416246Z"
    }
   },
   "source": [
    "from sklearn.metrics import accuracy_score\n",
    "\n",
    "train_perm_importance = permutation_importance(arbol, X_train, y_train, accuracy_score)\n",
    "train_perm_importance = dict(sorted(train_perm_importance.items(), key=lambda item: item[1], reverse=True))\n",
    "train_perm_importance"
   ],
   "outputs": [
    {
     "data": {
      "text/plain": [
       "{'middle-middle-square': np.float64(0.25243619489559155),\n",
       " 'top-left-square': np.float64(0.17459396751740142),\n",
       " 'top-right-square': np.float64(0.15510440835266814),\n",
       " 'bottom-right-square': np.float64(0.14849187935034802),\n",
       " 'bottom-left-square': np.float64(0.14802784222737808),\n",
       " 'top-middle-square': np.float64(0.08062645011600922),\n",
       " 'middle-left-square': np.float64(0.07923433874709984),\n",
       " 'bottom-middle-square': np.float64(0.07842227378190247),\n",
       " 'middle-right-square': np.float64(0.06392111368909537)}"
      ]
     },
     "execution_count": 54,
     "metadata": {},
     "output_type": "execute_result"
    }
   ],
   "execution_count": 54
  },
  {
   "cell_type": "markdown",
   "metadata": {},
   "source": [
    "¿Se obtienen los mismos valores cuando se calcula sobre el conjunto de testeo?\n",
    "No :)"
   ]
  },
  {
   "metadata": {
    "ExecuteTime": {
     "end_time": "2024-08-30T18:26:31.668658Z",
     "start_time": "2024-08-30T18:26:29.955899Z"
    }
   },
   "cell_type": "code",
   "source": [
    "test_perm_importance = permutation_importance(arbol, X_test, y_test, accuracy_score)\n",
    "test_perm_importance = dict(sorted(test_perm_importance.items(), key=lambda item: item[1], reverse=True))\n",
    "test_perm_importance"
   ],
   "outputs": [
    {
     "data": {
      "text/plain": [
       "{'middle-middle-square': np.float64(0.20729166666666665),\n",
       " 'top-left-square': np.float64(0.1468750000000002),\n",
       " 'bottom-right-square': np.float64(0.14687499999999998),\n",
       " 'top-right-square': np.float64(0.13333333333333341),\n",
       " 'bottom-left-square': np.float64(0.12708333333333333),\n",
       " 'middle-right-square': np.float64(0.09479166666666672),\n",
       " 'top-middle-square': np.float64(0.09166666666666656),\n",
       " 'bottom-middle-square': np.float64(0.07708333333333339),\n",
       " 'middle-left-square': np.float64(0.07083333333333341)}"
      ]
     },
     "execution_count": 55,
     "metadata": {},
     "output_type": "execute_result"
    }
   ],
   "execution_count": 55
  },
  {
   "metadata": {
    "ExecuteTime": {
     "end_time": "2024-08-30T18:28:55.335532Z",
     "start_time": "2024-08-30T18:28:54.856390Z"
    }
   },
   "cell_type": "code",
   "source": [
    "import seaborn as sns\n",
    "# for each feature, we will plot the importance calculated by permutation importance for both train and test sets, using a barplot\n",
    "train_perm_importance_df = pd.DataFrame(train_perm_importance.items(), columns=['Feature', 'Importance'])\n",
    "train_perm_importance_df['Set'] = 'Train'\n",
    "test_perm_importance_df = pd.DataFrame(test_perm_importance.items(), columns=['Feature', 'Importance'])\n",
    "test_perm_importance_df['Set'] = 'Test'\n",
    "perm_importance_df = pd.concat([train_perm_importance_df, test_perm_importance_df])\n",
    "\n",
    "sns.barplot(data=perm_importance_df, x='Importance', y='Feature', hue='Set')"
   ],
   "outputs": [
    {
     "data": {
      "text/plain": [
       "<Axes: xlabel='Importance', ylabel='Feature'>"
      ]
     },
     "execution_count": 61,
     "metadata": {},
     "output_type": "execute_result"
    },
    {
     "data": {
      "text/plain": [
       "<Figure size 640x480 with 1 Axes>"
      ],
      "image/png": "[encoded data removed]"
     },
     "metadata": {},
     "output_type": "display_data"
    }
   ],
   "execution_count": 61
  },
  {
   "cell_type": "markdown",
   "metadata": {},
   "source": [
    "# Opcional: Atributos continuos"
   ]
  },
  {
   "cell_type": "markdown",
   "metadata": {},
   "source": [
    "La implementación anterior permite construir árboles partiendo de un dataset cuyos atributos no son continuos. Modificar dicha implementación para que soporte este tipo de atributos.\n",
    "¿Qué funciones hay que modificar? \n",
    "\n",
    "solo 'encontrar_mejor_atributo_y_corte'? Necesita saber qué valores probar"
   ]
  },
  {
   "metadata": {},
   "cell_type": "code",
   "outputs": [],
   "execution_count": null,
   "source": ""
  }
 ],
 "metadata": {
  "celltoolbar": "Tags",
  "kernelspec": {
   "display_name": "Python (aa)",
   "language": "python",
   "name": "aa"
  },
  "language_info": {
   "codemirror_mode": {
    "name": "ipython",
    "version": 3
   },
   "file_extension": ".py",
   "mimetype": "text/x-python",
   "name": "python",
   "nbconvert_exporter": "python",
   "pygments_lexer": "ipython3",
   "version": "3.10.12"
  }
 },
 "nbformat": 4,
 "nbformat_minor": 2
}
